{
 "cells": [
  {
   "cell_type": "markdown",
   "id": "ea6fcd0e",
   "metadata": {},
   "source": [
    "# Import and Setup the model"
   ]
  },
  {
   "cell_type": "code",
   "execution_count": null,
   "id": "6ce81882",
   "metadata": {},
   "outputs": [],
   "source": [
    "from agents import Agent, OpenAIChatCompletionsModel, AsyncOpenAI, Runner, trace, function_tool\n",
    "from dotenv import load_dotenv\n",
    "import requests\n",
    "import os\n",
    "import asyncio\n",
    "import sendgrid\n",
    "from sendgrid.helpers.mail import Email, To, Content, Mail\n",
    "from typing import Dict\n",
    "from IPython.display import display, Markdown\n",
    "from pydantic import BaseModel, Field\n",
    "from agents.model_settings import ModelSettings"
   ]
  },
  {
   "cell_type": "code",
   "execution_count": null,
   "id": "108f9026",
   "metadata": {},
   "outputs": [],
   "source": [
    "load_dotenv(override=True)"
   ]
  },
  {
   "cell_type": "code",
   "execution_count": null,
   "id": "d908893d",
   "metadata": {},
   "outputs": [],
   "source": [
    "GEMINI_API_KEY = os.getenv(\"GEMINI_API_KEY\")\n",
    "GEMINI_BASE_URL = os.getenv(\"GEMINI_BASE_URL\")"
   ]
  },
  {
   "cell_type": "code",
   "execution_count": null,
   "id": "aa185425",
   "metadata": {},
   "outputs": [],
   "source": [
    "gemini_client = AsyncOpenAI(\n",
    "    api_key = GEMINI_API_KEY,\n",
    "    base_url = GEMINI_BASE_URL\n",
    ")\n",
    "\n",
    "model = OpenAIChatCompletionsModel(\n",
    "    model = 'gemini-2.0-flash',\n",
    "    openai_client = gemini_client\n",
    ")"
   ]
  },
  {
   "cell_type": "markdown",
   "id": "5013559d",
   "metadata": {},
   "source": [
    "# Search Agent"
   ]
  },
  {
   "cell_type": "code",
   "execution_count": null,
   "id": "25f972ff",
   "metadata": {},
   "outputs": [],
   "source": [
    "\n",
    "@function_tool\n",
    "def google_search(query: str) -> str:\n",
    "    \"\"\"\n",
    "    Perform a Google search using Custom Search API and return top results as text.\n",
    "    \"\"\"\n",
    "    GOOGLE_API_KEY = os.getenv(\"GOOGLE_API_KEY\")\n",
    "    GOOGLE_CSE_ID = os.getenv(\"GOOGLE_CSE_ID\")\n",
    "\n",
    "    url = \"https://www.googleapis.com/customsearch/v1\"\n",
    "    params = {\n",
    "        \"key\": GOOGLE_API_KEY,\n",
    "        \"cx\": GOOGLE_CSE_ID,\n",
    "        \"q\": query,\n",
    "        \"num\": 5  # top 5 results\n",
    "    }\n",
    "\n",
    "    try:\n",
    "        resp = requests.get(url, params=params)\n",
    "        resp.raise_for_status()\n",
    "        data = resp.json()\n",
    "        results = []\n",
    "        for item in data.get(\"items\", []):\n",
    "            title = item.get(\"title\", \"\")\n",
    "            snippet = item.get(\"snippet\", \"\")\n",
    "            link = item.get(\"link\", \"\")\n",
    "            results.append(f\"{title}: {snippet} ({link})\")\n",
    "        return \"\\n\".join(results)\n",
    "    except Exception as e:\n",
    "        return f\"Google search failed: {e}\"\n"
   ]
  },
  {
   "cell_type": "code",
   "execution_count": null,
   "id": "a734d269",
   "metadata": {},
   "outputs": [],
   "source": [
    "INSTRUCTIONS = \"\"\"\n",
    "You are a research assistant AI. Given a topic, you search the web and produce a concise, structured summary\n",
    "capturing the key points. Follow these rules:\n",
    "\n",
    "1. Summarize in 2-3 paragraphs, under 300 words.\n",
    "2. Focus on the most relevant and recent information.\n",
    "3. Include key frameworks, trends, or technologies if applicable.\n",
    "4. Present findings in short, clear sentences or bullet points if helpful.\n",
    "5. Ignore any unrelated details or fluff.\n",
    "6. Do not add personal opinions, commentary, or conclusions.\n",
    "\n",
    "Output should be easy to read and suitable for use in research reports.\n",
    "\"\"\""
   ]
  },
  {
   "cell_type": "code",
   "execution_count": null,
   "id": "bb5675ef",
   "metadata": {},
   "outputs": [],
   "source": [
    "search_agent = Agent(\n",
    "    name=\"Deep Research Agent\",\n",
    "    instructions=INSTRUCTIONS,\n",
    "    tools=[google_search], \n",
    "    model=model,\n",
    "    model_settings=ModelSettings(tool_choice=\"required\"),\n",
    ")"
   ]
  },
  {
   "cell_type": "code",
   "execution_count": null,
   "id": "d5971c70",
   "metadata": {},
   "outputs": [],
   "source": [
    "message = \"Latest AI Agent frameworks in 2025\"\n",
    "\n",
    "with trace(\"Search\"):\n",
    "    result = await Runner.run(search_agent, message)\n",
    "\n",
    "display(Markdown(result.final_output))"
   ]
  },
  {
   "cell_type": "markdown",
   "id": "bfde1188",
   "metadata": {},
   "source": [
    "# Planner Agent"
   ]
  },
  {
   "cell_type": "code",
   "execution_count": null,
   "id": "dee60471",
   "metadata": {},
   "outputs": [],
   "source": [
    "HOW_MANY_SEARCHES = 5\n",
    "\n",
    "INSTRUCTIONS = f\"You are a helpful research assistant. Given a query, come up with a set of web searches \\\n",
    "to perform to best answer the query. Output {HOW_MANY_SEARCHES} terms to query for.\"\n",
    "\n",
    "class WebSearchItem(BaseModel):\n",
    "    reason: str\n",
    "    \"You reasoning for why this search is important to the query.\"\n",
    "\n",
    "    query: str\n",
    "    \"The search term to use for the web search.\"\n",
    "\n",
    "class WebSearchPlan(BaseModel):\n",
    "    searches: list[WebSearchItem] = Field(description=\"A list of web searches to perform to best answer the query.\")\n",
    "\n",
    "planner_agent = Agent(\n",
    "    name = 'PlannerAgent',\n",
    "    instructions = INSTRUCTIONS,\n",
    "    model = model,\n",
    "    output_type=WebSearchPlan,\n",
    ")"
   ]
  },
  {
   "cell_type": "code",
   "execution_count": null,
   "id": "1abbc444",
   "metadata": {},
   "outputs": [],
   "source": [
    "\n",
    "message = \"Latest AI Agent frameworks in 2025\"\n",
    "\n",
    "with trace(\"Search\"):\n",
    "    result = await Runner.run(planner_agent, message)\n",
    "    print(result.final_output)"
   ]
  },
  {
   "cell_type": "markdown",
   "id": "5d46cc1c",
   "metadata": {},
   "source": [
    "# Send Email Tool"
   ]
  },
  {
   "cell_type": "code",
   "execution_count": null,
   "id": "1028489b",
   "metadata": {},
   "outputs": [],
   "source": [
    "@function_tool\n",
    "def send_email(subject: str, html_body: str) -> Dict[str, str]:\n",
    "    \"\"\"Send out an email with the given subject and HTML body\"\"\"\n",
    "    sg = sendgrid.SendGridAPIClient(api_key=os.environ.get('SENDGRID_API_KEY'))\n",
    "    from_email = Email(\"deepnagpal147514@gmail.com\")  # Verified sender\n",
    "    to_email = To(\"akagamishanks1554@gmail.com\")      # Recipient\n",
    "\n",
    "    content = Content(\"text/html\", html_body)\n",
    "    mail = Mail(from_email, to_email, subject, content).get()\n",
    "\n",
    "    response = sg.client.mail.send.post(request_body=mail)\n",
    "\n",
    "    return {\n",
    "        \"status\": \"success\" if response.status_code == 202 else \"failed\",\n",
    "        \"code\": response.status_code,\n",
    "        \"body\": response.body.decode() if response.body else \"\",\n",
    "    }\n"
   ]
  },
  {
   "cell_type": "code",
   "execution_count": null,
   "id": "0e17afe2",
   "metadata": {},
   "outputs": [],
   "source": [
    "send_email"
   ]
  },
  {
   "cell_type": "markdown",
   "id": "c0804dc5",
   "metadata": {},
   "source": [
    "# Email Agent"
   ]
  },
  {
   "cell_type": "code",
   "execution_count": null,
   "id": "bd32ff98",
   "metadata": {},
   "outputs": [],
   "source": [
    "INSTRUCTIONS = \"\"\"\n",
    "    You are able to send a nicely formatted HTML email based on a detailed report.\n",
    "    You will be provided with a detailed report. You should use your tool to send one email, providing the \n",
    "    report converted into clean, well presented HTML with an appropriate subject line.\n",
    "\"\"\""
   ]
  },
  {
   "cell_type": "code",
   "execution_count": null,
   "id": "5d0bce71",
   "metadata": {},
   "outputs": [],
   "source": [
    "email_agent = Agent(\n",
    "    name = 'Email Agent',\n",
    "    instructions = INSTRUCTIONS,\n",
    "    tools = [send_email],\n",
    "    model = model\n",
    ")"
   ]
  },
  {
   "cell_type": "markdown",
   "id": "9da35f9a",
   "metadata": {},
   "source": [
    "# Writer Agent"
   ]
  },
  {
   "cell_type": "code",
   "execution_count": null,
   "id": "4adffff8",
   "metadata": {},
   "outputs": [],
   "source": [
    "INSTRUCTIONS = (\n",
    "    \"You are a senior researcher tasked with writing a cohesive report for a research query. \"\n",
    "    \"You will be provided with the original query, and some initial research done by a research assistant.\\n\"\n",
    "    \"You should first come up with an outline for the report that describes the structure and \"\n",
    "    \"flow of the report. Then, generate the report and return that as your final output.\\n\"\n",
    "    \"The final output should be in markdown format, and it should be lengthy and detailed. Aim \"\n",
    "    \"for 4-5 pages of content, at least 500 words.\"\n",
    ")"
   ]
  },
  {
   "cell_type": "code",
   "execution_count": null,
   "id": "71b709a4",
   "metadata": {},
   "outputs": [],
   "source": [
    "class ReportData(BaseModel):\n",
    "    short_summary: str = Field(description = \"A short 2-3 sentence summary of the findings.\")\n",
    "\n",
    "    markdown_report: str = Field(description = \"The Final Report\")\n",
    "\n",
    "    follow_up_questions: list[str] = Field(description = \"Suggested topics to research further\")"
   ]
  },
  {
   "cell_type": "code",
   "execution_count": null,
   "id": "140e097a",
   "metadata": {},
   "outputs": [],
   "source": [
    "writer_agent = Agent(\n",
    "    name = 'Writer Agent',\n",
    "    instructions = INSTRUCTIONS,\n",
    "    model = model,\n",
    "    output_type = ReportData\n",
    ")"
   ]
  },
  {
   "cell_type": "markdown",
   "id": "584b3d18",
   "metadata": {},
   "source": [
    "# 3 Function to plan and execute the search using planner_agent & search_agent"
   ]
  },
  {
   "cell_type": "code",
   "execution_count": null,
   "id": "7396ca60",
   "metadata": {},
   "outputs": [],
   "source": [
    "async def plan_search(query: str):\n",
    "    \"\"\" Use the `planner_agent` to plan which searches to run for query. \"\"\"\n",
    "    print(\"Planning Searches...\")\n",
    "    result = await Runner.run(planner_agent, f\"Query: {query}\")\n",
    "    print(f\"Will perform {len(result.final_output.searches)} searches\")\n",
    "    return result.final_output"
   ]
  },
  {
   "cell_type": "code",
   "execution_count": null,
   "id": "c7f49d22",
   "metadata": {},
   "outputs": [],
   "source": [
    "async def search(item: WebSearchItem):\n",
    "    \"\"\" Use the search agent to run a web search for each item in the search paln\"\"\"\n",
    "    input = f\"Search term: {item.query}\\nReason for searching: {item.reason}\"\n",
    "    result = await Runner.run(search_agent, input)\n",
    "    return result.final_output"
   ]
  },
  {
   "cell_type": "code",
   "execution_count": null,
   "id": "16f96b3a",
   "metadata": {},
   "outputs": [],
   "source": [
    "async def perform_searches(search_plan:  WebSearchPlan):\n",
    "    \"\"\" Call search() for each item in the search plan \"\"\"\n",
    "    print(\"Searching...\")\n",
    "    tasks = [asyncio.create_task(search(item)) for item in search_plan.searches]\n",
    "    results = await asyncio.gather(*tasks)\n",
    "    print(\"Finish Searching\")\n",
    "    return results"
   ]
  },
  {
   "cell_type": "markdown",
   "id": "425b7b6b",
   "metadata": {},
   "source": [
    "# 2 functions to write a report and email it"
   ]
  },
  {
   "cell_type": "code",
   "execution_count": null,
   "id": "7198a585",
   "metadata": {},
   "outputs": [],
   "source": [
    "async def write_report(query:  str, search_results: list[str]):\n",
    "    \"\"\" Use the writer agent to write a report based on the search results. \"\"\"\n",
    "    print(\"Thinking about report...\")\n",
    "    input = f\"Original query: {query}\\nSummarized search results: {search_results}\"\n",
    "    result = await Runner.run(writer_agent, input)\n",
    "    print(\"Finished writing report\")\n",
    "    return result.final_output"
   ]
  },
  {
   "cell_type": "code",
   "execution_count": null,
   "id": "8f9af33f",
   "metadata": {},
   "outputs": [],
   "source": [
    "async def send_email(report: ReportData):\n",
    "    \"\"\" Use the email agent to send an email with the report. \"\"\"\n",
    "    print(\"Writing email...\")\n",
    "    result = await Runner.run(email_agent, report.markdown_report)\n",
    "    print(\"Email sent\")\n",
    "    return report"
   ]
  },
  {
   "cell_type": "markdown",
   "id": "9040bccf",
   "metadata": {},
   "source": [
    "# Showtime!"
   ]
  },
  {
   "cell_type": "code",
   "execution_count": null,
   "id": "945accd6",
   "metadata": {},
   "outputs": [],
   "source": [
    "query = \"Future of Artificial Intelligence\""
   ]
  },
  {
   "cell_type": "code",
   "execution_count": null,
   "id": "8f80c719",
   "metadata": {},
   "outputs": [],
   "source": [
    "with trace(\"Research Tace\"):\n",
    "    print(\"Searching research...\")\n",
    "    search_plan = await plan_search(query)\n",
    "    search_results = await perform_searches(search_plan)\n",
    "    report = await write_report(query, search_results)\n",
    "    await send_email(report)\n",
    "    print(report)\n",
    "    print(\"Hooray!\")"
   ]
  }
 ],
 "metadata": {
  "kernelspec": {
   "display_name": "Python 3",
   "language": "python",
   "name": "python3"
  },
  "language_info": {
   "codemirror_mode": {
    "name": "ipython",
    "version": 3
   },
   "file_extension": ".py",
   "mimetype": "text/x-python",
   "name": "python",
   "nbconvert_exporter": "python",
   "pygments_lexer": "ipython3",
   "version": "3.12.10"
  }
 },
 "nbformat": 4,
 "nbformat_minor": 5
}
