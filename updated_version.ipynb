{
 "cells": [
  {
   "cell_type": "markdown",
   "id": "0f35c9ed",
   "metadata": {},
   "source": [
    "# Import and Setup"
   ]
  },
  {
   "cell_type": "code",
   "execution_count": 1,
   "id": "d6690e6b",
   "metadata": {},
   "outputs": [],
   "source": [
    "# Imports & setup\n",
    "from agents import Agent, OpenAIChatCompletionsModel, AsyncOpenAI, Runner, trace\n",
    "from dotenv import load_dotenv\n",
    "import requests\n",
    "import os\n",
    "import asyncio\n",
    "import sendgrid\n",
    "from sendgrid.helpers.mail import Email, To, Content, Mail\n",
    "from typing import Dict\n",
    "from IPython.display import display, Markdown\n",
    "from pydantic import BaseModel, Field\n",
    "from agents.model_settings import ModelSettings\n",
    "import markdown  # for converting markdown to HTML\n",
    "\n",
    "# Load environment variables\n",
    "load_dotenv(override=True)\n",
    "\n",
    "# Gemini API setup\n",
    "GEMINI_API_KEY = os.getenv(\"GEMINI_API_KEY\")\n",
    "GEMINI_BASE_URL = os.getenv(\"GEMINI_BASE_URL\")\n",
    "\n",
    "gemini_client = AsyncOpenAI(\n",
    "    api_key=GEMINI_API_KEY,\n",
    "    base_url=GEMINI_BASE_URL\n",
    ")\n",
    "\n",
    "model = OpenAIChatCompletionsModel(\n",
    "    model='gemini-2.0-flash',\n",
    "    openai_client=gemini_client\n",
    ")"
   ]
  },
  {
   "cell_type": "markdown",
   "id": "e4e74d78",
   "metadata": {},
   "source": [
    "# Search Agent"
   ]
  },
  {
   "cell_type": "code",
   "execution_count": 2,
   "id": "648e6c73",
   "metadata": {},
   "outputs": [],
   "source": [
    "# Search tool\n",
    "def google_search(query: str) -> str:\n",
    "    GOOGLE_API_KEY = os.getenv(\"GOOGLE_API_KEY\")\n",
    "    GOOGLE_CSE_ID = os.getenv(\"GOOGLE_CSE_ID\")\n",
    "\n",
    "    url = \"https://www.googleapis.com/customsearch/v1\"\n",
    "    params = {\"key\": GOOGLE_API_KEY, \"cx\": GOOGLE_CSE_ID, \"q\": query, \"num\": 5}\n",
    "\n",
    "    try:\n",
    "        resp = requests.get(url, params=params)\n",
    "        resp.raise_for_status()\n",
    "        data = resp.json()\n",
    "        results = []\n",
    "        for item in data.get(\"items\", []):\n",
    "            title = item.get(\"title\", \"\")\n",
    "            snippet = item.get(\"snippet\", \"\")\n",
    "            link = item.get(\"link\", \"\")\n",
    "            results.append(f\"{title}: {snippet} ({link})\")\n",
    "        return \"\\n\".join(results)\n",
    "    except Exception as e:\n",
    "        return f\"Google search failed: {e}\"\n",
    "\n",
    "# Search Agent\n",
    "search_instructions = \"\"\"\n",
    "You are a research assistant AI. Given a topic, search and produce a concise, structured summary.\n",
    "\n",
    "Rules:\n",
    "- 2-3 paragraphs, under 300 words\n",
    "- Focus on relevant & recent info\n",
    "- Short, clear sentences\n",
    "\"\"\"\n",
    "\n",
    "search_agent = Agent(\n",
    "    name=\"Deep Research Agent\",\n",
    "    instructions=search_instructions,\n",
    "    model=model,\n",
    ")\n"
   ]
  },
  {
   "cell_type": "markdown",
   "id": "57409731",
   "metadata": {},
   "source": [
    "# Planner Agent"
   ]
  },
  {
   "cell_type": "code",
   "execution_count": 3,
   "id": "4c8ad6d7",
   "metadata": {},
   "outputs": [],
   "source": [
    "# Planner Agent\n",
    "class WebSearchItem(BaseModel):\n",
    "    reason: str\n",
    "    query: str\n",
    "\n",
    "class WebSearchPlan(BaseModel):\n",
    "    searches: list[WebSearchItem]\n",
    "\n",
    "planner_instructions = \"Suggest 5 useful web search queries for the given topic.\"\n",
    "\n",
    "planner_agent = Agent(\n",
    "    name='PlannerAgent',\n",
    "    instructions=planner_instructions,\n",
    "    model=model,\n",
    "    output_type=WebSearchPlan,\n",
    ")"
   ]
  },
  {
   "cell_type": "markdown",
   "id": "d73cc07a",
   "metadata": {},
   "source": [
    "# Writer Agent"
   ]
  },
  {
   "cell_type": "code",
   "execution_count": 4,
   "id": "97ec17ed",
   "metadata": {},
   "outputs": [],
   "source": [
    "writer_instructions = (\n",
    "    \"Write a comprehensive research report.\\n\"\n",
    "    \"Requirements:\\n\"\n",
    "    \"- At least 1500 words\\n\"\n",
    "    \"- 6–8 sections: Introduction, Background, Analysis, Case Studies, Challenges, Future Directions, Conclusion\\n\"\n",
    "    \"- Must be in Markdown format\\n\"\n",
    "    \"- End with 5 follow-up research questions\"\n",
    ")\n",
    "\n",
    "class ReportData(BaseModel):\n",
    "    short_summary: str\n",
    "    markdown_report: str\n",
    "    follow_up_questions: list[str]\n",
    "\n",
    "writer_agent = Agent(\n",
    "    name='Writer Agent',\n",
    "    instructions=writer_instructions,\n",
    "    model=model,\n",
    "    output_type=ReportData\n",
    ")"
   ]
  },
  {
   "cell_type": "markdown",
   "id": "623512d1",
   "metadata": {},
   "source": [
    "# Email Agent"
   ]
  },
  {
   "cell_type": "code",
   "execution_count": 5,
   "id": "cb5eaf47",
   "metadata": {},
   "outputs": [],
   "source": [
    "def send_email(subject: str, html_body: str) -> Dict[str, str]:\n",
    "    \"\"\"Send an email via SendGrid\"\"\"\n",
    "    sg = sendgrid.SendGridAPIClient(api_key=os.environ.get('SENDGRID_API_KEY'))\n",
    "    from_email = Email(\"deepnagpal147514@gmail.com\")  # must be verified in SendGrid\n",
    "    to_email = To(\"akagamishanks1554@gmail.com\")      # recipient email\n",
    "\n",
    "    content = Content(\"text/html\", html_body)\n",
    "    mail = Mail(from_email, to_email, subject, content).get()\n",
    "\n",
    "    response = sg.client.mail.send.post(request_body=mail)\n",
    "\n",
    "    return {\n",
    "        \"status\": \"success\" if response.status_code == 202 else \"failed\",\n",
    "        \"code\": response.status_code,\n",
    "        \"body\": response.body.decode() if response.body else \"\",\n",
    "    }"
   ]
  },
  {
   "cell_type": "markdown",
   "id": "1205b435",
   "metadata": {},
   "source": [
    "# Helper Functions"
   ]
  },
  {
   "cell_type": "code",
   "execution_count": 6,
   "id": "e66d2b72",
   "metadata": {},
   "outputs": [],
   "source": [
    "async def plan_search(query: str):\n",
    "    result = await Runner.run(planner_agent, f\"Query: {query}\")\n",
    "    return result.final_output\n",
    "\n",
    "async def search(item: WebSearchItem):\n",
    "    input_text = f\"Search term: {item.query}\\nReason: {item.reason}\"\n",
    "    result = await Runner.run(search_agent, input_text)\n",
    "    return result.final_output\n",
    "\n",
    "async def perform_searches(search_plan: WebSearchPlan):\n",
    "    tasks = [asyncio.create_task(search(item)) for item in search_plan.searches]\n",
    "    results = await asyncio.gather(*tasks)\n",
    "    return results\n",
    "\n",
    "async def write_report(query: str, search_results: list[str]):\n",
    "    input_text = f\"Original query: {query}\\nSummarized results: {search_results}\"\n",
    "    result = await Runner.run(writer_agent, input_text)\n",
    "    return result.final_output\n",
    "\n",
    "async def send_report(report: ReportData, query: str):\n",
    "    html_body = markdown.markdown(report.markdown_report)\n",
    "    print(\"📧 Sending email...\")\n",
    "    response = send_email(f\"Research Report: {query}\", html_body)\n",
    "    print(\"✅ SendGrid Response:\", response)\n",
    "    return response\n"
   ]
  },
  {
   "cell_type": "markdown",
   "id": "49773674",
   "metadata": {},
   "source": [
    "# Showtime"
   ]
  },
  {
   "cell_type": "code",
   "execution_count": 8,
   "id": "4051eff3",
   "metadata": {},
   "outputs": [
    {
     "name": "stdout",
     "output_type": "stream",
     "text": [
      "📧 Sending email...\n",
      "✅ SendGrid Response: {'status': 'success', 'code': 202, 'body': ''}\n"
     ]
    },
    {
     "data": {
      "text/markdown": [
       "# The Future of Artificial Intelligence: A Comprehensive Analysis\n",
       "\n",
       "## 1. Introduction\n",
       "\n",
       "Artificial Intelligence (AI) has rapidly evolved from a theoretical concept to a tangible force reshaping industries, economies, and societies worldwide. This report delves into the future of AI, exploring key trends, ethical considerations, workforce transformations, potential applications, and the ongoing debate surrounding Artificial General Intelligence (AGI). We will analyze the current state of AI, examine its potential impact on various sectors, and discuss the challenges and opportunities that lie ahead. Furthermore, we will explore case studies that highlight the transformative power of AI, and propose future research directions that can help us better understand and navigate the complex landscape of AI.\n",
       "\n",
       "## 2. Background: The Rise of AI\n",
       "\n",
       "The modern era of AI began with the Dartmouth Workshop in 1956, but it wasn't until the advent of powerful computing, massive datasets, and algorithmic breakthroughs like deep learning that AI truly began to flourish. Machine learning, a subset of AI, allows systems to learn from data without explicit programming, enabling them to perform tasks such as image recognition, natural language processing, and predictive analytics. The increasing availability of cloud computing resources has further democratized access to AI, allowing smaller organizations and individuals to leverage its capabilities.\n",
       "\n",
       "Key milestones in AI development include the creation of expert systems in the 1980s, the victory of IBM's Deep Blue over Garry Kasparov in 1997, and the rise of deep learning in the 2010s. Today, AI is ubiquitous, powering everything from search engines and recommendation systems to autonomous vehicles and medical diagnostics. This rapid progress has fueled both excitement and concern about the future of AI, prompting discussions about its potential benefits and risks.\n",
       "\n",
       "## 3. Analysis: Key Trends Shaping the Future of AI\n",
       "\n",
       "Several key trends are shaping the future trajectory of AI:\n",
       "\n",
       "*   **Democratization of AI:** AI tools and platforms are becoming increasingly accessible, empowering individuals and smaller organizations to leverage AI capabilities without extensive expertise or resources. Automated Machine Learning (AutoML) and cloud-based AI services are democratizing access, fostering innovation across various sectors.\n",
       "*   **Ethical and Responsible AI:** There is a growing emphasis on ethical and responsible AI development, addressing concerns about bias, transparency, and accountability. This includes the development of frameworks and guidelines to ensure AI systems are aligned with human values and societal norms.\n",
       "*   **Advancements in NLP:** Natural Language Processing (NLP) continues to evolve, enabling more sophisticated human-computer interactions and improved understanding of textual data. This is driving innovation in areas such as chatbots, machine translation, and sentiment analysis.\n",
       "*   **Computer Vision Enhancements:** Computer vision is enhancing image and video analysis, with applications ranging from autonomous vehicles to medical diagnosis. Advances in deep learning have significantly improved the accuracy and efficiency of computer vision systems.\n",
       "*   **AI Convergence with Other Technologies:** The convergence of AI with other technologies like IoT, blockchain, and edge computing is creating new opportunities and driving innovation across industries. This synergy is enabling the development of intelligent systems that can operate in real-time and make autonomous decisions.\n",
       "\n",
       "## 4. Case Studies: AI in Action\n",
       "\n",
       "*   **Healthcare:** AI is transforming healthcare through personalized medicine, AI-driven diagnostics, and robotic surgery. AI algorithms can analyze medical images to detect diseases earlier and more accurately, while robotic surgery allows for minimally invasive procedures with greater precision.\n",
       "*   **Transportation:** Self-driving vehicles, smart traffic management systems, and optimized logistics are revolutionizing transportation. AI-powered autonomous vehicles promise to reduce accidents, improve traffic flow, and enhance mobility for people with disabilities.\n",
       "*   **Manufacturing:** AI-powered automation and predictive analytics are transforming manufacturing and supply chains, leading to increased productivity and reduced costs. AI algorithms can optimize production processes, predict equipment failures, and improve quality control.\n",
       "*   **Finance:** AI is being used to detect fraudulent activities, manage risk, and provide personalized financial advice. AI algorithms can analyze large datasets to identify suspicious transactions and assess creditworthiness.\n",
       "*   **Education:** AI-driven education platforms can provide personalized learning experiences, catering to individual student needs. AI tutors can provide customized feedback and support, while AI-powered assessment tools can track student progress and identify areas for improvement.\n",
       "\n",
       "## 5. Challenges: Ethical Considerations and Workforce Transformation\n",
       "\n",
       "### 5.1 Ethical Challenges\n",
       "\n",
       "Artificial intelligence (AI) presents numerous ethical challenges as its capabilities expand. One major concern is bias in AI systems, which can perpetuate and amplify existing societal inequalities in areas like hiring, criminal justice, and loan applications. Algorithmic bias arises from biased training data or flawed algorithms, leading to discriminatory outcomes. Ensuring fairness and transparency in AI requires careful attention to data collection, algorithm design, and ongoing monitoring. Another key issue is the potential for job displacement due to AI-driven automation, necessitating workforce retraining and adaptation strategies.\n",
       "\n",
       "Looking ahead, the ethical implications of AI become even more complex. The development of autonomous weapons systems (AWS) raises concerns about accountability and the potential for unintended consequences in warfare. The increasing sophistication of AI-generated content, including deepfakes, poses a threat to truth and trust in information. Addressing these challenges requires a multi-faceted approach involving collaboration between researchers, policymakers, and the public. Establishing clear ethical guidelines, regulations, and international agreements is essential to harness the benefits of AI while mitigating its risks and ensuring a future where AI aligns with human values.\n",
       "\n",
       "### 5.2 Workforce Transformation\n",
       "\n",
       "The integration of artificial intelligence (AI) is expected to cause significant shifts in the job market. Automation driven by AI could displace workers in roles involving repetitive tasks, data processing, and even some cognitive functions. However, AI is also creating new job opportunities in fields such as AI development, data science, AI maintenance, and AI training. The net effect on employment is still debated, with some studies predicting overall job losses and others anticipating a net increase in jobs due to AI-driven economic growth and innovation.\n",
       "\n",
       "To adapt to these changes, the workforce will need to acquire new skills. Demand is expected to rise for roles requiring uniquely human skills, such as creativity, critical thinking, emotional intelligence, and complex problem-solving. Education and training programs will need to evolve to equip workers with these skills, as well as provide opportunities for reskilling and upskilling. Governments and organizations are exploring policies and initiatives to support workforce transitions, including investments in education, training programs, and social safety nets. Continuous learning and adaptation will be crucial for workers to thrive in the AI-driven economy.\n",
       "\n",
       "## 6. Future Directions: Towards AGI and Beyond\n",
       "\n",
       "The ultimate goal of AI research is often considered to be the development of Artificial General Intelligence (AGI), a hypothetical AI that can understand, learn, and perform any intellectual task that a human being can. Predictions for the arrival of AGI vary widely among experts. Some researchers believe AGI is decades or even centuries away, citing the current limitations of AI in areas such as common sense reasoning, understanding context, and adapting to new situations. They argue that significant breakthroughs in AI theory and architecture are needed before AGI can be realized.\n",
       "\n",
       "Other experts are more optimistic, suggesting AGI could emerge within the next few decades, potentially by the mid-21st century. These predictions often assume that current trends in AI, such as deep learning and neural networks, will continue to advance exponentially. Additionally, some futurists propose that AGI could arise unexpectedly as AI systems become more complex and capable of self-improvement. However, it's important to note that these timelines are speculative, and there is no consensus on when or even if AGI will be achieved. The development of AGI remains one of the greatest challenges and most debated topics in the field of artificial intelligence.\n",
       "\n",
       "Beyond AGI, future directions in AI research include:\n",
       "\n",
       "*   **Explainable AI (XAI):** Developing AI systems that can explain their decisions and reasoning processes, making them more transparent and trustworthy.\n",
       "*   **Federated Learning:** Enabling AI models to be trained on decentralized data sources, protecting data privacy and security.\n",
       "*   **Neuromorphic Computing:** Designing AI hardware that mimics the structure and function of the human brain, leading to more efficient and powerful AI systems.\n",
       "*   **AI for Social Good:** Applying AI to address global challenges such as climate change, poverty, and disease.\n",
       "\n",
       "## 7. Conclusion\n",
       "\n",
       "The future of AI is bright, with the potential to transform industries, improve lives, and address some of the world's most pressing challenges. However, realizing this potential requires careful consideration of the ethical implications of AI, proactive efforts to mitigate the risks of job displacement, and continued investment in research and development. By fostering collaboration between researchers, policymakers, and the public, we can ensure that AI is developed and deployed in a responsible and beneficial manner, creating a future where AI aligns with human values and contributes to a more prosperous and equitable world.\n"
      ],
      "text/plain": [
       "<IPython.core.display.Markdown object>"
      ]
     },
     "metadata": {},
     "output_type": "display_data"
    },
    {
     "name": "stdout",
     "output_type": "stream",
     "text": [
      "\n",
      "📌 Short Summary: This report analyzes the future of AI, covering trends like democratization, ethical AI, NLP, and computer vision. It explores AI applications in healthcare, transportation, and manufacturing, while also addressing challenges such as ethical concerns and workforce transformation. The report discusses the prospect of AGI and concludes by emphasizing the need for responsible AI development and collaboration.\n",
      "\n",
      "📌 Follow-up Questions: ['What specific policies can governments implement to mitigate the negative impacts of AI-driven job displacement and ensure a just transition for workers?', 'How can we develop robust evaluation metrics to assess the fairness and transparency of AI algorithms, and what mechanisms can be put in place to rectify biases?', 'What are the most promising approaches for integrating AI with other emerging technologies, such as blockchain and edge computing, to create novel applications and solutions?', 'How can international cooperation be fostered to establish common ethical standards and regulations for AI development and deployment, addressing issues such as autonomous weapons systems and data privacy?', 'What are the potential risks and benefits of developing artificial general intelligence (AGI), and how can we ensure that AGI is aligned with human values and goals?']\n",
      "\n",
      "📌 Email Status: {'status': 'success', 'code': 202, 'body': ''}\n"
     ]
    }
   ],
   "source": [
    "query = \"Future of Artificial Intelligence\"  # try also \"Future of Artificial Intelligence\"\n",
    "\n",
    "with trace(\"Research Trace\"):\n",
    "    search_plan = await plan_search(query)\n",
    "    search_results = await perform_searches(search_plan)\n",
    "    report = await write_report(query, search_results)\n",
    "    email_response = await send_report(report, query)\n",
    "\n",
    "    display(Markdown(report.markdown_report))  # show in notebook\n",
    "    print(\"\\n📌 Short Summary:\", report.short_summary)\n",
    "    print(\"\\n📌 Follow-up Questions:\", report.follow_up_questions)\n",
    "    print(\"\\n📌 Email Status:\", email_response)"
   ]
  },
  {
   "cell_type": "code",
   "execution_count": null,
   "id": "9db9b085",
   "metadata": {},
   "outputs": [],
   "source": []
  }
 ],
 "metadata": {
  "kernelspec": {
   "display_name": "Python 3",
   "language": "python",
   "name": "python3"
  },
  "language_info": {
   "codemirror_mode": {
    "name": "ipython",
    "version": 3
   },
   "file_extension": ".py",
   "mimetype": "text/x-python",
   "name": "python",
   "nbconvert_exporter": "python",
   "pygments_lexer": "ipython3",
   "version": "3.12.10"
  }
 },
 "nbformat": 4,
 "nbformat_minor": 5
}
